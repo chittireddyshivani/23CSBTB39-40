{
  "nbformat": 4,
  "nbformat_minor": 0,
  "metadata": {
    "colab": {
      "provenance": [],
      "authorship_tag": "ABX9TyPMkStLIcByTw/L/qi7wxeH",
      "include_colab_link": true
    },
    "kernelspec": {
      "name": "python3",
      "display_name": "Python 3"
    },
    "language_info": {
      "name": "python"
    }
  },
  "cells": [
    {
      "cell_type": "markdown",
      "metadata": {
        "id": "view-in-github",
        "colab_type": "text"
      },
      "source": [
        "<a href=\"https://colab.research.google.com/github/chittireddyshivani/23CSBTB39-40/blob/main/PS_A7.ipynb\" target=\"_parent\"><img src=\"https://colab.research.google.com/assets/colab-badge.svg\" alt=\"Open In Colab\"/></a>"
      ]
    },
    {
      "cell_type": "code",
      "execution_count": 1,
      "metadata": {
        "colab": {
          "base_uri": "https://localhost:8080/"
        },
        "id": "0rqgaePJppgs",
        "outputId": "4f4aaa60-404e-4099-a224-1a675ae63e8c"
      },
      "outputs": [
        {
          "output_type": "stream",
          "name": "stdout",
          "text": [
            "Sample Mean: ₹27466.67\n",
            "Sample Standard Deviation: ₹3748.65\n",
            "95% Confidence Interval: ₹25390.73 to ₹29542.60\n",
            "The claimed average monthly cost of ₹30,000 does not fall within the 95% confidence interval.\n",
            "We have sufficient evidence to reject the claim.\n"
          ]
        }
      ],
      "source": [
        "import numpy as np\n",
        "import scipy.stats as stats\n",
        "# Sample data of monthly living costs\n",
        "living_costs = [25000, 31000, 20000, 28000, 29500, 32000, 21000, 30500,\n",
        "                27000, 28500, 30000, 23000, 31000, 26000, 29500]\n",
        "# 1. Compute the sample mean and standard deviation\n",
        "sample_mean = np.mean(living_costs)\n",
        "sample_std = np.std(living_costs, ddof=1)  # Using Bessel's correction\n",
        "n = len(living_costs)\n",
        "# 2. Calculate the 95% confidence interval for the sample mean\n",
        "confidence_level = 0.95\n",
        "alpha = 1 - confidence_level\n",
        "t_critical = stats.t.ppf(1 - alpha/2, df=n-1)  # Two-tailed t-critical value\n",
        "margin_of_error = t_critical * (sample_std / np.sqrt(n))\n",
        "confidence_interval = (sample_mean - margin_of_error, sample_mean + margin_of_error)\n",
        "# Output the results\n",
        "print(f\"Sample Mean: ₹{sample_mean:.2f}\")\n",
        "print(f\"Sample Standard Deviation: ₹{sample_std:.2f}\")\n",
        "print(f\"95% Confidence Interval: ₹{confidence_interval[0]:.2f} to ₹{confidence_interval[1]:.2f}\")\n",
        "# 3. Hypothesis test assessment\n",
        "claimed_mean = 30000\n",
        "if confidence_interval[0] <= claimed_mean <= confidence_interval[1]:\n",
        "    print(\"The claimed average monthly cost of ₹30,000 falls within the 95% confidence interval.\")\n",
        "    print(\"We do not have sufficient evidence to reject the claim.\")\n",
        "else:\n",
        "    print(\"The claimed average monthly cost of ₹30,000 does not fall within the 95% confidence interval.\")\n",
        "    print(\"We have sufficient evidence to reject the claim.\")"
      ]
    }
  ]
}