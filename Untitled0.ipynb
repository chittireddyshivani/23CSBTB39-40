{
  "nbformat": 4,
  "nbformat_minor": 0,
  "metadata": {
    "colab": {
      "provenance": [],
      "authorship_tag": "ABX9TyOzM9yFbraE3suboOs6vb1D",
      "include_colab_link": true
    },
    "kernelspec": {
      "name": "python3",
      "display_name": "Python 3"
    },
    "language_info": {
      "name": "python"
    }
  },
  "cells": [
    {
      "cell_type": "markdown",
      "metadata": {
        "id": "view-in-github",
        "colab_type": "text"
      },
      "source": [
        "<a href=\"https://colab.research.google.com/github/chittireddyshivani/23CSBTB39-40/blob/main/Untitled0.ipynb\" target=\"_parent\"><img src=\"https://colab.research.google.com/assets/colab-badge.svg\" alt=\"Open In Colab\"/></a>"
      ]
    },
    {
      "cell_type": "markdown",
      "source": [],
      "metadata": {
        "id": "rqjXDx9_Q0Ga"
      }
    },
    {
      "cell_type": "code",
      "execution_count": null,
      "metadata": {
        "colab": {
          "base_uri": "https://localhost:8080/"
        },
        "id": "xjOaXmkq_JhU",
        "outputId": "1c3bbada-8c71-46d6-dd3d-3612731f4397"
      },
      "outputs": [
        {
          "output_type": "stream",
          "name": "stdout",
          "text": [
            "array1 [1 3 4 5]\n",
            "array2 [10  5  6  8]\n"
          ]
        }
      ],
      "source": [
        "import numpy as np\n",
        "import pandas as pd\n",
        "array1=np.array([1,3,4,5])\n",
        "array2=np.array([10,5,6,8])\n",
        "print(\"array1\",array1)\n",
        "print(\"array2\",array2)"
      ]
    },
    {
      "cell_type": "markdown",
      "source": [],
      "metadata": {
        "id": "Hpg3RnC5QyNE"
      }
    },
    {
      "cell_type": "code",
      "source": [],
      "metadata": {
        "id": "xVdatJURSq7b"
      },
      "execution_count": null,
      "outputs": []
    }
  ]
}