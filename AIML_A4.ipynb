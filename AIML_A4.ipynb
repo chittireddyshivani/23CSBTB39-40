{
  "nbformat": 4,
  "nbformat_minor": 0,
  "metadata": {
    "colab": {
      "provenance": [],
      "authorship_tag": "ABX9TyPVOvYqlw8k35ZWxrh7AYxG",
      "include_colab_link": true
    },
    "kernelspec": {
      "name": "python3",
      "display_name": "Python 3"
    },
    "language_info": {
      "name": "python"
    }
  },
  "cells": [
    {
      "cell_type": "markdown",
      "metadata": {
        "id": "view-in-github",
        "colab_type": "text"
      },
      "source": [
        "<a href=\"https://colab.research.google.com/github/chittireddyshivani/23CSBTB39-40/blob/main/AIML_A4.ipynb\" target=\"_parent\"><img src=\"https://colab.research.google.com/assets/colab-badge.svg\" alt=\"Open In Colab\"/></a>"
      ]
    },
    {
      "cell_type": "markdown",
      "source": [],
      "metadata": {
        "id": "rqjXDx9_Q0Ga"
      }
    },
    {
      "cell_type": "code",
      "execution_count": 1,
      "metadata": {
        "colab": {
          "base_uri": "https://localhost:8080/"
        },
        "id": "xjOaXmkq_JhU",
        "outputId": "5e4b20bc-2066-4e84-e26e-39440fb19234"
      },
      "outputs": [
        {
          "output_type": "stream",
          "name": "stdout",
          "text": [
            "array1 [1 3 4 5]\n",
            "array2 [10  5  6  8]\n"
          ]
        }
      ],
      "source": [
        "import numpy as np\n",
        "import pandas as pd\n",
        "array1=np.array([1,3,4,5])\n",
        "array2=np.array([10,5,6,8])\n",
        "print(\"array1\",array1)\n",
        "print(\"array2\",array2)"
      ]
    },
    {
      "cell_type": "code",
      "source": [],
      "metadata": {
        "id": "s706yo8v_vGq"
      },
      "execution_count": null,
      "outputs": []
    },
    {
      "cell_type": "markdown",
      "source": [],
      "metadata": {
        "id": "0qqfk8BsBZG3"
      }
    },
    {
      "cell_type": "markdown",
      "source": [],
      "metadata": {
        "id": "2AKDjMjgBZQR"
      }
    },
    {
      "cell_type": "code",
      "source": [],
      "metadata": {
        "id": "OC-D0T2mBaUj"
      },
      "execution_count": null,
      "outputs": []
    },
    {
      "cell_type": "code",
      "source": [
        "\n",
        "import numpy as np\n",
        "#lists\n",
        "#arrayas\n",
        "#type\n",
        "list1=[1,2,3,4,5]\n",
        "print(list1)\n",
        "print(type(list1))\n",
        "list2=[6,7,8,9,10]\n",
        "print(list2)\n",
        "print(type(list2))\n",
        "arr1=np.array(list1)\n",
        "print(arr1)\n",
        "print(type(arr1))\n",
        "arr2=np.array(list2)\n",
        "print(arr2)\n",
        "print(type(arr2))\n",
        "#mathematical operations\n",
        "add=list1+list2\n",
        "print(\"Addition of two=\",add)\n",
        "sub=arr1-arr2\n",
        "print(\"Subtraction of two=\",sub)\n",
        "mul=arr1*arr2\n",
        "print(\"Multiplication of two=\",mul)\n",
        "div=arr1/arr2\n",
        "print(\"Division of two=\",div)\n",
        "power_result=arr1**arr2\n",
        "print(\"Power Result=\",power_result)\n",
        "#tuples\n",
        "tuple1=(\"varsha\",\"kavya\",\"sravani\")\n",
        "print(tuple1)\n",
        "tuple2=(19,19,18)\n",
        "print(tuple2)\n",
        "add=tuple1+tuple2\n",
        "print(add)\n",
        "print(type(add))\n",
        "#sin\n",
        "sin_result=np.sin(arr1)\n",
        "print(\"sin_result=\",sin_result)\n",
        "#loq\n",
        "log_result=np.log(arr1)\n",
        "print(\"log_result=\",log_result)\n",
        "#log2\n",
        "log2_result=np.log2(arr1)\n",
        "print(\"log_result=\",log2_result)\n",
        "#exp\n",
        "exp_result=np.exp(arr1)\n",
        "print(\"exp_result=\",exp_result)"
      ],
      "metadata": {
        "id": "S4kT8zRK-3nF",
        "colab": {
          "base_uri": "https://localhost:8080/"
        },
        "outputId": "de3477e8-8981-4d74-d9f9-8c3eaf59863a"
      },
      "execution_count": 9,
      "outputs": [
        {
          "output_type": "stream",
          "name": "stdout",
          "text": [
            "[1, 2, 3, 4, 5]\n",
            "<class 'list'>\n",
            "[6, 7, 8, 9, 10]\n",
            "<class 'list'>\n",
            "[1 2 3 4 5]\n",
            "<class 'numpy.ndarray'>\n",
            "[ 6  7  8  9 10]\n",
            "<class 'numpy.ndarray'>\n",
            "Addition of two= [1, 2, 3, 4, 5, 6, 7, 8, 9, 10]\n",
            "Subtraction of two= [-5 -5 -5 -5 -5]\n",
            "Multiplication of two= [ 6 14 24 36 50]\n",
            "Division of two= [0.16666667 0.28571429 0.375      0.44444444 0.5       ]\n",
            "Power Result= [      1     128    6561  262144 9765625]\n",
            "('varsha', 'kavya', 'sravani')\n",
            "(19, 19, 18)\n",
            "('varsha', 'kavya', 'sravani', 19, 19, 18)\n",
            "<class 'tuple'>\n",
            "sin_result= [ 0.84147098  0.90929743  0.14112001 -0.7568025  -0.95892427]\n",
            "log_result= [0.         0.69314718 1.09861229 1.38629436 1.60943791]\n",
            "log_result= [0.         1.         1.5849625  2.         2.32192809]\n",
            "exp_result= [  2.71828183   7.3890561   20.08553692  54.59815003 148.4131591 ]\n"
          ]
        }
      ]
    },
    {
      "cell_type": "code",
      "source": [],
      "metadata": {
        "id": "MEAJyUW_GbYd"
      },
      "execution_count": null,
      "outputs": []
    },
    {
      "cell_type": "markdown",
      "source": [],
      "metadata": {
        "id": "Hpg3RnC5QyNE"
      }
    },
    {
      "cell_type": "code",
      "source": [
        "#part1:implement basic data structures using numpy,pandas\n",
        "import numpy as np\n",
        "#lists\n",
        "#arrays\n",
        "#Type\n",
        "list1=[1,2,3,4,5]\n",
        "prin"
      ],
      "metadata": {
        "id": "yULoyiLMBvrc"
      },
      "execution_count": null,
      "outputs": []
    },
    {
      "cell_type": "code",
      "source": [
        "import pandas as pd\n",
        "import matplotlib.pyplot as plt\n",
        "#Data\n",
        "#Data\n",
        "\n",
        "people=['shivani','varsha','kavya','nitya']\n",
        "ages=[18,19,20,16,15]#removed the extra element to match the lengths of other lists\n",
        "heights=[145,151,165,173]\n",
        "weights=[45,55,65,75]\n",
        "\n",
        "#create a DataFrame\n",
        "data = {\n",
        "    'Name':people,\n",
        "    'Age':ages,\n",
        "    'Height(cm)':heights,\n",
        "    'Weight(kg)':weights\n",
        "}\n",
        "\n",
        "df = pd.DataFrame(data)\n",
        "#Display the DataFrame\n",
        "print(df)\n",
        "#Scatter Plot:Height vs Weight\n",
        "plt.figure(figsize=(8,6))\n",
        "plt.scatter(df['Height (cm)'],df['Weight (kg)'],color='blue',marker='o')\n",
        "plt.title('Scatter plot of Heights vs Weight')\n",
        "plt.xlabel('Height (cm)')\n",
        "plt.ylabel('weight (kg)')\n",
        "plt.grid(True)\n",
        "plt.show()\n",
        "\n",
        "#Bar Chart:Heights and Weights of individuals\n",
        "plt.figure(figsize=(8,6))\n",
        "bar_width=0.4\n",
        "index = range(len(df['Name']))\n",
        "\n",
        "plt.bar(index,df['Height(cm)'],bar_width,label='Height(cm)',\n",
        "color='blue')\n",
        "plt.bar([i + bar_width for i in index],df['weight(kg)'],bar_width,\n",
        "label='Weight(kg)',color='green')\n",
        "\n",
        "plt.title('Bar chart of Height and Weight')\n",
        "plt.xlabel('individuals')\n",
        "plt.ylabel('Measurements')\n",
        "plt.xticks([i+bar_width/2 for i in index],df['Name'])\n",
        "plt.legend()\n",
        "plt.grid(True)\n",
        "plt.show()\n",
        "\n",
        "#Histogram:Distribution of Age,Height,and Weight\n",
        "plt.figure(fidsize=(12,6))\n",
        "plt.subplot(1,3,1)\n",
        "plt.hist('df'['Age'],bins=5,color='purple',edgecolor='black')\n",
        "plt.title('Age Distribution')\n",
        "plt.xlabel('Age')\n",
        "plt.ylabel('Frequency')\n",
        "plt.subplot(1,3,3)\n",
        "plt.hist(df['Height (cm)'],bins=4,color='orange',edgecolor='black')\n",
        "plt.title('Height Distribution')\n",
        "plt.xlabe1('Height (cm)')\n",
        "plt.ylabel('Frequency')\n",
        "\n",
        "plt.subplot(1,3,3)\n",
        "plt.hist(df['Weight(kg)'],bins=4,color='red',edgecolor='black')\n",
        "plt.title('Weight(kg)')\n",
        "plt.ylabel('Frequency')\n",
        "\n",
        "plt.tight_layout()\n",
        "plt.show()"
      ],
      "metadata": {
        "colab": {
          "base_uri": "https://localhost:8080/",
          "height": 428
        },
        "id": "kI5YHZMLHlOA",
        "outputId": "4bd57da1-9396-43de-afe1-aa819333ed65"
      },
      "execution_count": 29,
      "outputs": [
        {
          "output_type": "stream",
          "name": "stderr",
          "text": [
            "<>:52: SyntaxWarning: str indices must be integers or slices, not str; perhaps you missed a comma?\n",
            "<>:52: SyntaxWarning: str indices must be integers or slices, not str; perhaps you missed a comma?\n"
          ]
        },
        {
          "output_type": "error",
          "ename": "ValueError",
          "evalue": "All arrays must be of the same length",
          "traceback": [
            "\u001b[0;31m---------------------------------------------------------------------------\u001b[0m",
            "\u001b[0;31mValueError\u001b[0m                                Traceback (most recent call last)",
            "\u001b[0;32m<ipython-input-29-f6aaf16ba5b5>\u001b[0m in \u001b[0;36m<cell line: 19>\u001b[0;34m()\u001b[0m\n\u001b[1;32m     17\u001b[0m }\n\u001b[1;32m     18\u001b[0m \u001b[0;34m\u001b[0m\u001b[0m\n\u001b[0;32m---> 19\u001b[0;31m \u001b[0mdf\u001b[0m \u001b[0;34m=\u001b[0m \u001b[0mpd\u001b[0m\u001b[0;34m.\u001b[0m\u001b[0mDataFrame\u001b[0m\u001b[0;34m(\u001b[0m\u001b[0mdata\u001b[0m\u001b[0;34m)\u001b[0m\u001b[0;34m\u001b[0m\u001b[0;34m\u001b[0m\u001b[0m\n\u001b[0m\u001b[1;32m     20\u001b[0m \u001b[0;31m#Display the DataFrame\u001b[0m\u001b[0;34m\u001b[0m\u001b[0;34m\u001b[0m\u001b[0m\n\u001b[1;32m     21\u001b[0m \u001b[0mprint\u001b[0m\u001b[0;34m(\u001b[0m\u001b[0mdf\u001b[0m\u001b[0;34m)\u001b[0m\u001b[0;34m\u001b[0m\u001b[0;34m\u001b[0m\u001b[0m\n",
            "\u001b[0;32m/usr/local/lib/python3.10/dist-packages/pandas/core/frame.py\u001b[0m in \u001b[0;36m__init__\u001b[0;34m(self, data, index, columns, dtype, copy)\u001b[0m\n\u001b[1;32m    731\u001b[0m         \u001b[0;32melif\u001b[0m \u001b[0misinstance\u001b[0m\u001b[0;34m(\u001b[0m\u001b[0mdata\u001b[0m\u001b[0;34m,\u001b[0m \u001b[0mdict\u001b[0m\u001b[0;34m)\u001b[0m\u001b[0;34m:\u001b[0m\u001b[0;34m\u001b[0m\u001b[0;34m\u001b[0m\u001b[0m\n\u001b[1;32m    732\u001b[0m             \u001b[0;31m# GH#38939 de facto copy defaults to False only in non-dict cases\u001b[0m\u001b[0;34m\u001b[0m\u001b[0;34m\u001b[0m\u001b[0m\n\u001b[0;32m--> 733\u001b[0;31m             \u001b[0mmgr\u001b[0m \u001b[0;34m=\u001b[0m \u001b[0mdict_to_mgr\u001b[0m\u001b[0;34m(\u001b[0m\u001b[0mdata\u001b[0m\u001b[0;34m,\u001b[0m \u001b[0mindex\u001b[0m\u001b[0;34m,\u001b[0m \u001b[0mcolumns\u001b[0m\u001b[0;34m,\u001b[0m \u001b[0mdtype\u001b[0m\u001b[0;34m=\u001b[0m\u001b[0mdtype\u001b[0m\u001b[0;34m,\u001b[0m \u001b[0mcopy\u001b[0m\u001b[0;34m=\u001b[0m\u001b[0mcopy\u001b[0m\u001b[0;34m,\u001b[0m \u001b[0mtyp\u001b[0m\u001b[0;34m=\u001b[0m\u001b[0mmanager\u001b[0m\u001b[0;34m)\u001b[0m\u001b[0;34m\u001b[0m\u001b[0;34m\u001b[0m\u001b[0m\n\u001b[0m\u001b[1;32m    734\u001b[0m         \u001b[0;32melif\u001b[0m \u001b[0misinstance\u001b[0m\u001b[0;34m(\u001b[0m\u001b[0mdata\u001b[0m\u001b[0;34m,\u001b[0m \u001b[0mma\u001b[0m\u001b[0;34m.\u001b[0m\u001b[0mMaskedArray\u001b[0m\u001b[0;34m)\u001b[0m\u001b[0;34m:\u001b[0m\u001b[0;34m\u001b[0m\u001b[0;34m\u001b[0m\u001b[0m\n\u001b[1;32m    735\u001b[0m             \u001b[0;32mfrom\u001b[0m \u001b[0mnumpy\u001b[0m\u001b[0;34m.\u001b[0m\u001b[0mma\u001b[0m \u001b[0;32mimport\u001b[0m \u001b[0mmrecords\u001b[0m\u001b[0;34m\u001b[0m\u001b[0;34m\u001b[0m\u001b[0m\n",
            "\u001b[0;32m/usr/local/lib/python3.10/dist-packages/pandas/core/internals/construction.py\u001b[0m in \u001b[0;36mdict_to_mgr\u001b[0;34m(data, index, columns, dtype, typ, copy)\u001b[0m\n\u001b[1;32m    501\u001b[0m             \u001b[0marrays\u001b[0m \u001b[0;34m=\u001b[0m \u001b[0;34m[\u001b[0m\u001b[0mx\u001b[0m\u001b[0;34m.\u001b[0m\u001b[0mcopy\u001b[0m\u001b[0;34m(\u001b[0m\u001b[0;34m)\u001b[0m \u001b[0;32mif\u001b[0m \u001b[0mhasattr\u001b[0m\u001b[0;34m(\u001b[0m\u001b[0mx\u001b[0m\u001b[0;34m,\u001b[0m \u001b[0;34m\"dtype\"\u001b[0m\u001b[0;34m)\u001b[0m \u001b[0;32melse\u001b[0m \u001b[0mx\u001b[0m \u001b[0;32mfor\u001b[0m \u001b[0mx\u001b[0m \u001b[0;32min\u001b[0m \u001b[0marrays\u001b[0m\u001b[0;34m]\u001b[0m\u001b[0;34m\u001b[0m\u001b[0;34m\u001b[0m\u001b[0m\n\u001b[1;32m    502\u001b[0m \u001b[0;34m\u001b[0m\u001b[0m\n\u001b[0;32m--> 503\u001b[0;31m     \u001b[0;32mreturn\u001b[0m \u001b[0marrays_to_mgr\u001b[0m\u001b[0;34m(\u001b[0m\u001b[0marrays\u001b[0m\u001b[0;34m,\u001b[0m \u001b[0mcolumns\u001b[0m\u001b[0;34m,\u001b[0m \u001b[0mindex\u001b[0m\u001b[0;34m,\u001b[0m \u001b[0mdtype\u001b[0m\u001b[0;34m=\u001b[0m\u001b[0mdtype\u001b[0m\u001b[0;34m,\u001b[0m \u001b[0mtyp\u001b[0m\u001b[0;34m=\u001b[0m\u001b[0mtyp\u001b[0m\u001b[0;34m,\u001b[0m \u001b[0mconsolidate\u001b[0m\u001b[0;34m=\u001b[0m\u001b[0mcopy\u001b[0m\u001b[0;34m)\u001b[0m\u001b[0;34m\u001b[0m\u001b[0;34m\u001b[0m\u001b[0m\n\u001b[0m\u001b[1;32m    504\u001b[0m \u001b[0;34m\u001b[0m\u001b[0m\n\u001b[1;32m    505\u001b[0m \u001b[0;34m\u001b[0m\u001b[0m\n",
            "\u001b[0;32m/usr/local/lib/python3.10/dist-packages/pandas/core/internals/construction.py\u001b[0m in \u001b[0;36marrays_to_mgr\u001b[0;34m(arrays, columns, index, dtype, verify_integrity, typ, consolidate)\u001b[0m\n\u001b[1;32m    112\u001b[0m         \u001b[0;31m# figure out the index, if necessary\u001b[0m\u001b[0;34m\u001b[0m\u001b[0;34m\u001b[0m\u001b[0m\n\u001b[1;32m    113\u001b[0m         \u001b[0;32mif\u001b[0m \u001b[0mindex\u001b[0m \u001b[0;32mis\u001b[0m \u001b[0;32mNone\u001b[0m\u001b[0;34m:\u001b[0m\u001b[0;34m\u001b[0m\u001b[0;34m\u001b[0m\u001b[0m\n\u001b[0;32m--> 114\u001b[0;31m             \u001b[0mindex\u001b[0m \u001b[0;34m=\u001b[0m \u001b[0m_extract_index\u001b[0m\u001b[0;34m(\u001b[0m\u001b[0marrays\u001b[0m\u001b[0;34m)\u001b[0m\u001b[0;34m\u001b[0m\u001b[0;34m\u001b[0m\u001b[0m\n\u001b[0m\u001b[1;32m    115\u001b[0m         \u001b[0;32melse\u001b[0m\u001b[0;34m:\u001b[0m\u001b[0;34m\u001b[0m\u001b[0;34m\u001b[0m\u001b[0m\n\u001b[1;32m    116\u001b[0m             \u001b[0mindex\u001b[0m \u001b[0;34m=\u001b[0m \u001b[0mensure_index\u001b[0m\u001b[0;34m(\u001b[0m\u001b[0mindex\u001b[0m\u001b[0;34m)\u001b[0m\u001b[0;34m\u001b[0m\u001b[0;34m\u001b[0m\u001b[0m\n",
            "\u001b[0;32m/usr/local/lib/python3.10/dist-packages/pandas/core/internals/construction.py\u001b[0m in \u001b[0;36m_extract_index\u001b[0;34m(data)\u001b[0m\n\u001b[1;32m    675\u001b[0m         \u001b[0mlengths\u001b[0m \u001b[0;34m=\u001b[0m \u001b[0mlist\u001b[0m\u001b[0;34m(\u001b[0m\u001b[0mset\u001b[0m\u001b[0;34m(\u001b[0m\u001b[0mraw_lengths\u001b[0m\u001b[0;34m)\u001b[0m\u001b[0;34m)\u001b[0m\u001b[0;34m\u001b[0m\u001b[0;34m\u001b[0m\u001b[0m\n\u001b[1;32m    676\u001b[0m         \u001b[0;32mif\u001b[0m \u001b[0mlen\u001b[0m\u001b[0;34m(\u001b[0m\u001b[0mlengths\u001b[0m\u001b[0;34m)\u001b[0m \u001b[0;34m>\u001b[0m \u001b[0;36m1\u001b[0m\u001b[0;34m:\u001b[0m\u001b[0;34m\u001b[0m\u001b[0;34m\u001b[0m\u001b[0m\n\u001b[0;32m--> 677\u001b[0;31m             \u001b[0;32mraise\u001b[0m \u001b[0mValueError\u001b[0m\u001b[0;34m(\u001b[0m\u001b[0;34m\"All arrays must be of the same length\"\u001b[0m\u001b[0;34m)\u001b[0m\u001b[0;34m\u001b[0m\u001b[0;34m\u001b[0m\u001b[0m\n\u001b[0m\u001b[1;32m    678\u001b[0m \u001b[0;34m\u001b[0m\u001b[0m\n\u001b[1;32m    679\u001b[0m         \u001b[0;32mif\u001b[0m \u001b[0mhave_dicts\u001b[0m\u001b[0;34m:\u001b[0m\u001b[0;34m\u001b[0m\u001b[0;34m\u001b[0m\u001b[0m\n",
            "\u001b[0;31mValueError\u001b[0m: All arrays must be of the same length"
          ]
        }
      ]
    },
    {
      "cell_type": "code",
      "source": [],
      "metadata": {
        "id": "eAXnj9-TPQ5f"
      },
      "execution_count": null,
      "outputs": []
    },
    {
      "cell_type": "code",
      "source": [],
      "metadata": {
        "id": "jE9ThcT9VGrK"
      },
      "execution_count": null,
      "outputs": []
    },
    {
      "cell_type": "code",
      "source": [
        "import numpy as np\n",
        "import pandas as pd\n",
        "import matplotlib.pyplot as plt\n",
        "import seaborn as sns\n",
        "housing=pd.DataFrame(pd.read_csv(\"Housing.csv\"))\n",
        "housing.head()\n",
        "housing.tail()\n",
        "rows=len(housing.axes[0])\n",
        "cols=len(housing.axes[1])\n",
        "print(\"Number of Rows:\",rows)\n",
        "print(\"Number of columns\",cols)\n"
      ],
      "metadata": {
        "colab": {
          "base_uri": "https://localhost:8080/"
        },
        "id": "okCEcdFmJti3",
        "outputId": "62fd9a9b-c1bd-451b-ac58-94012969cd0c"
      },
      "execution_count": 36,
      "outputs": [
        {
          "output_type": "stream",
          "name": "stdout",
          "text": [
            "Number of Rows: 545\n",
            "Number of columns 13\n"
          ]
        }
      ]
    }
  ]
}